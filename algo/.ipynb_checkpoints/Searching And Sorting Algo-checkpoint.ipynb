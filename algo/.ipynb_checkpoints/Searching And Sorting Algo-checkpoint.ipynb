{
 "cells": [
  {
   "cell_type": "code",
   "execution_count": 26,
   "id": "201cf74e",
   "metadata": {
    "ExecuteTime": {
     "end_time": "2021-11-23T17:15:28.186082Z",
     "start_time": "2021-11-23T17:15:28.182464Z"
    }
   },
   "outputs": [],
   "source": [
    "initial_data = [*range(100000)]\n",
    "item = 99999"
   ]
  },
  {
   "cell_type": "markdown",
   "id": "07b21002",
   "metadata": {},
   "source": [
    "## Linear Search"
   ]
  },
  {
   "cell_type": "code",
   "execution_count": 27,
   "id": "eb15e10c",
   "metadata": {
    "ExecuteTime": {
     "end_time": "2021-11-23T17:15:30.045260Z",
     "start_time": "2021-11-23T17:15:30.042557Z"
    }
   },
   "outputs": [],
   "source": [
    "def linear_search(li, b):\n",
    "    steps = 0\n",
    "    output = -1\n",
    "    \n",
    "    for i in li:\n",
    "        steps += 1\n",
    "        if i == b:\n",
    "            output = i\n",
    "            break\n",
    "            \n",
    "    print(\"Steps required: \", steps)\n",
    "    print(\"Output: \", output)"
   ]
  },
  {
   "cell_type": "code",
   "execution_count": 28,
   "id": "f0109bd5",
   "metadata": {
    "ExecuteTime": {
     "end_time": "2021-11-23T17:15:32.475319Z",
     "start_time": "2021-11-23T17:15:32.466949Z"
    }
   },
   "outputs": [
    {
     "name": "stdout",
     "output_type": "stream",
     "text": [
      "Steps required:  100000\n",
      "Output:  99999\n"
     ]
    }
   ],
   "source": [
    "linear_search(initial_data, item)"
   ]
  },
  {
   "cell_type": "markdown",
   "id": "e051c78b",
   "metadata": {},
   "source": [
    "# Jump Search"
   ]
  },
  {
   "cell_type": "code",
   "execution_count": 31,
   "id": "bc76f8c8",
   "metadata": {
    "ExecuteTime": {
     "end_time": "2021-11-23T17:16:08.518644Z",
     "start_time": "2021-11-23T17:16:08.510197Z"
    }
   },
   "outputs": [],
   "source": [
    "import math\n",
    "\n",
    "def jump_search(li , b):\n",
    "    steps = 0\n",
    "    output = -1\n",
    "     \n",
    "    # get jump size (block)\n",
    "    jump_size = math.sqrt(len(li))\n",
    "    stp = jump_size\n",
    "    \n",
    "    prev = 0\n",
    "    while li[int(min(stp, len(li))-1)] < b:\n",
    "        steps+=1\n",
    "        prev = stp\n",
    "        stp += jump_size\n",
    "        if prev >= len(li):\n",
    "            print(\"Steps required: \", steps)\n",
    "            print(\"Output: \", output)\n",
    "            return\n",
    "     \n",
    "    # Doing a linear search for x in\n",
    "    # block beginning with prev.\n",
    "    while li[int(prev)] < b:\n",
    "        steps+=1\n",
    "        prev += 1\n",
    "         \n",
    "        # If we reached next block or end\n",
    "        # of array, element is not present.\n",
    "        if prev == min(stp, len(li)):\n",
    "            print(\"Steps required: \", steps)\n",
    "            print(\"Output: \", output)\n",
    "            return\n",
    "     \n",
    "    # If element is found\n",
    "    if li[int(prev)] == b:\n",
    "        output = b\n",
    "    \n",
    "    print(\"Steps required: \", steps)\n",
    "    print(\"Output: \", output)\n",
    "     \n",
    "    return"
   ]
  },
  {
   "cell_type": "code",
   "execution_count": 32,
   "id": "34e646c4",
   "metadata": {
    "ExecuteTime": {
     "end_time": "2021-11-23T17:16:09.381532Z",
     "start_time": "2021-11-23T17:16:09.378683Z"
    }
   },
   "outputs": [
    {
     "name": "stdout",
     "output_type": "stream",
     "text": [
      "Steps required:  388\n",
      "Output:  99999\n"
     ]
    }
   ],
   "source": [
    "jump_search(initial_data, item)"
   ]
  },
  {
   "cell_type": "markdown",
   "id": "b870b962",
   "metadata": {},
   "source": [
    "# Binary Search"
   ]
  },
  {
   "cell_type": "code",
   "execution_count": 33,
   "id": "3d61f575",
   "metadata": {
    "ExecuteTime": {
     "end_time": "2021-11-23T17:16:14.686379Z",
     "start_time": "2021-11-23T17:16:14.683544Z"
    }
   },
   "outputs": [],
   "source": [
    "def binary_search(li, b):\n",
    "    if len(li) == 1:\n",
    "        return - 1\n",
    "    \n",
    "    mid = len(li)//2\n",
    "    \n",
    "    if li[mid] == b:\n",
    "        return b\n",
    "    \n",
    "    if(li[mid] > b):\n",
    "        return binary_search(li[:mid], b)\n",
    "    else:\n",
    "        return binary_search(li[mid:], b)"
   ]
  },
  {
   "cell_type": "code",
   "execution_count": 34,
   "id": "97c78c44",
   "metadata": {
    "ExecuteTime": {
     "end_time": "2021-11-23T17:16:15.552188Z",
     "start_time": "2021-11-23T17:16:15.546576Z"
    }
   },
   "outputs": [
    {
     "data": {
      "text/plain": [
       "99"
      ]
     },
     "execution_count": 34,
     "metadata": {},
     "output_type": "execute_result"
    }
   ],
   "source": [
    "a = [*range(100)]\n",
    "binary_search(a, 99)"
   ]
  },
  {
   "cell_type": "code",
   "execution_count": 35,
   "id": "cc3cc810",
   "metadata": {
    "ExecuteTime": {
     "end_time": "2021-11-23T17:16:18.166213Z",
     "start_time": "2021-11-23T17:16:18.162793Z"
    }
   },
   "outputs": [],
   "source": [
    "def binary_search2(li, b):\n",
    "    low = 0\n",
    "    high = len(li) - 1\n",
    "    mid = 0\n",
    "    steps = 0\n",
    "    output = -1\n",
    "    \n",
    "    while low <= high:\n",
    "        steps += 1\n",
    "        mid = (high + low) // 2\n",
    "\n",
    "        if li[mid] < b:\n",
    "            low = mid + 1\n",
    "        elif li[mid] > b:\n",
    "            high = mid - 1\n",
    "        else:\n",
    "            output = li[mid]\n",
    "            break\n",
    "        \n",
    "    print(\"Steps required: \", steps)\n",
    "    print(\"Output: \", output)"
   ]
  },
  {
   "cell_type": "code",
   "execution_count": 36,
   "id": "1fdbe2dd",
   "metadata": {
    "ExecuteTime": {
     "end_time": "2021-11-23T17:16:21.077297Z",
     "start_time": "2021-11-23T17:16:21.074780Z"
    }
   },
   "outputs": [
    {
     "name": "stdout",
     "output_type": "stream",
     "text": [
      "Steps required:  17\n",
      "Output:  99999\n"
     ]
    }
   ],
   "source": [
    "binary_search2(initial_data, item)"
   ]
  },
  {
   "cell_type": "markdown",
   "id": "2e8a451f",
   "metadata": {},
   "source": [
    "Precondition: list must be sorted\n",
    "\n",
    "Time Complexity: log(2)N"
   ]
  },
  {
   "cell_type": "markdown",
   "id": "46489166",
   "metadata": {},
   "source": [
    "# Interpolation Search"
   ]
  },
  {
   "cell_type": "code",
   "execution_count": 42,
   "id": "33a45295",
   "metadata": {
    "ExecuteTime": {
     "end_time": "2021-11-23T17:20:26.897796Z",
     "start_time": "2021-11-23T17:20:26.892033Z"
    }
   },
   "outputs": [],
   "source": [
    "def ip_search_impl(li, b, low=0, high=0, steps=0):\n",
    "    steps += 1\n",
    "\n",
    "    # Since array is sorted, an element present\n",
    "    # in array must be in range defined by corner\n",
    "    if low <= high and li[low] <= b <= li[high]:\n",
    "\n",
    "        # Probing the position with keeping\n",
    "        # uniform distribution in mind.\n",
    "        pos = low + ((high - low) // (li[high] - li[low]) *\n",
    "                    (b - li[low]))\n",
    "\n",
    "        # Condition of target found\n",
    "        if li[pos] == b:\n",
    "            return pos, steps\n",
    "\n",
    "        # If x is larger, x is in right subarray\n",
    "        if li[pos] < b:\n",
    "            return ip_search_impl(li, b, pos + 1, high, steps)\n",
    "\n",
    "        # If x is smaller, x is in left subarray\n",
    "        if li[pos] > b:\n",
    "            return ip_search_impl(li, b, low, pos - 1, steps)\n",
    "    return -1, steps\n",
    "\n",
    "\n",
    "def interpolation_search(li, b):\n",
    "    output, steps = ip_search_impl(li, b, 0, len(li) - 1)\n",
    "    print(\"Steps required: \", steps)\n",
    "    print(\"Output: \", output)\n"
   ]
  },
  {
   "cell_type": "code",
   "execution_count": 38,
   "id": "57651a31",
   "metadata": {
    "ExecuteTime": {
     "end_time": "2021-11-23T17:16:25.781343Z",
     "start_time": "2021-11-23T17:16:25.778821Z"
    }
   },
   "outputs": [
    {
     "name": "stdout",
     "output_type": "stream",
     "text": [
      "Steps required:  1\n",
      "Output:  99999\n"
     ]
    }
   ],
   "source": [
    "interpolation_search(initial_data, item)"
   ]
  },
  {
   "cell_type": "code",
   "execution_count": 47,
   "id": "4a0542b7",
   "metadata": {
    "ExecuteTime": {
     "end_time": "2021-11-23T17:22:16.897504Z",
     "start_time": "2021-11-23T17:22:16.891253Z"
    }
   },
   "outputs": [
    {
     "name": "stdout",
     "output_type": "stream",
     "text": [
      "Element is present at index: 3\n"
     ]
    }
   ],
   "source": [
    "# Python program to find an element x\n",
    "# in a sorted array using Exponential Search\n",
    " \n",
    "# A recursive binary search function returns\n",
    "# location  of x in given array arr[l..r] is\n",
    "# present, otherwise -1\n",
    "def binarySearch( arr, l, r, x):\n",
    "    if r >= l:\n",
    "        mid = l + ( r-l ) // 2\n",
    "         \n",
    "        # If the element is present at\n",
    "        # the middle itself\n",
    "        if arr[mid] == x:\n",
    "            return mid\n",
    "         \n",
    "        # If the element is smaller than mid,\n",
    "        # then it can only be present in the\n",
    "        # left subarray\n",
    "        if arr[mid] > x:\n",
    "            return binarySearch(arr, l,\n",
    "                                mid - 1, x)\n",
    "         \n",
    "        # Else he element can only be\n",
    "        # present in the right\n",
    "        return binarySearch(arr, mid + 1, r, x)\n",
    "         \n",
    "    # We reach here if the element is not present\n",
    "    return -1\n",
    " \n",
    "# Returns the position of first\n",
    "# occurrence of x in array\n",
    "def exponentialSearch(arr, n, x):\n",
    "    # IF x is present at first\n",
    "    # location itself\n",
    "    if arr[0] == x:\n",
    "        return 0\n",
    "         \n",
    "    # Find range for binary search\n",
    "    # j by repeated doubling\n",
    "    i = 1\n",
    "    while i < n and arr[i] <= x:\n",
    "        i = i * 2\n",
    "     \n",
    "    # Call binary search for the found range\n",
    "    return binarySearch( arr, i // 2,\n",
    "                         min(i, n-1), x)\n",
    "     \n",
    " \n",
    "# Driver Code\n",
    "arr = [2, 3, 4, 10, 40]\n",
    "n = len(arr)\n",
    "x = 10\n",
    "result = exponentialSearch(arr, n, x)\n",
    "if result == -1:\n",
    "    print (\"Element not found in thye array\")\n",
    "else:\n",
    "    print (\"Element is present at index:\", result)"
   ]
  },
  {
   "cell_type": "markdown",
   "id": "26c6c8b4",
   "metadata": {},
   "source": [
    "- Jump Search\n",
    "- Interpolation Search\n",
    "- Exponential Search"
   ]
  },
  {
   "cell_type": "code",
   "execution_count": 46,
   "id": "c71177f8",
   "metadata": {
    "ExecuteTime": {
     "end_time": "2021-11-23T17:21:56.964562Z",
     "start_time": "2021-11-23T17:21:56.958861Z"
    }
   },
   "outputs": [
    {
     "name": "stdout",
     "output_type": "stream",
     "text": [
      "Steps required:  99999\n",
      "Output:  99999\n"
     ]
    }
   ],
   "source": [
    "output = exponentialSearch(initial_data, len(initial_data), item)\n",
    "print(\"Steps required: \", output)\n",
    "print(\"Output: \", output)"
   ]
  },
  {
   "cell_type": "markdown",
   "id": "0a9edfec",
   "metadata": {
    "ExecuteTime": {
     "end_time": "2021-11-23T16:15:38.834896Z",
     "start_time": "2021-11-23T16:15:38.832437Z"
    }
   },
   "source": [
    "# Selection SORT"
   ]
  },
  {
   "cell_type": "code",
   "execution_count": 54,
   "id": "70ae9306",
   "metadata": {
    "ExecuteTime": {
     "end_time": "2021-11-23T16:34:01.852660Z",
     "start_time": "2021-11-23T16:34:01.839253Z"
    }
   },
   "outputs": [],
   "source": [
    "def selection_sort(li):\n",
    "    for i in range(len(li)):\n",
    "        m = i\n",
    "        for ii in range (i+1, len(li)):\n",
    "            if li[m] > li[ii]:\n",
    "                m = ii\n",
    "\n",
    "        temp = li[i]\n",
    "\n",
    "        li[i] = li[m]\n",
    "        li[m] = temp\n",
    "    \n",
    "    return li"
   ]
  },
  {
   "cell_type": "code",
   "execution_count": 55,
   "id": "bb8bd8b7",
   "metadata": {
    "ExecuteTime": {
     "end_time": "2021-11-23T16:34:07.490717Z",
     "start_time": "2021-11-23T16:34:07.477677Z"
    }
   },
   "outputs": [
    {
     "data": {
      "text/plain": [
       "[-5, 2, 3, 5, 6, 10]"
      ]
     },
     "execution_count": 55,
     "metadata": {},
     "output_type": "execute_result"
    }
   ],
   "source": [
    "li = [10, 5, 6, 3, 2, -5]\n",
    "selection_sort(li)"
   ]
  },
  {
   "cell_type": "markdown",
   "id": "48e1a021",
   "metadata": {},
   "source": [
    "Time Complexity: N2"
   ]
  },
  {
   "cell_type": "markdown",
   "id": "ffc16132",
   "metadata": {},
   "source": [
    "# Bubble Sort"
   ]
  },
  {
   "cell_type": "code",
   "execution_count": null,
   "id": "95dcc967",
   "metadata": {},
   "outputs": [],
   "source": []
  },
  {
   "cell_type": "code",
   "execution_count": null,
   "id": "5b042f3b",
   "metadata": {},
   "outputs": [],
   "source": []
  },
  {
   "cell_type": "code",
   "execution_count": null,
   "id": "5a81383d",
   "metadata": {},
   "outputs": [],
   "source": []
  }
 ],
 "metadata": {
  "kernelspec": {
   "display_name": "Python 3 (ipykernel)",
   "language": "python",
   "name": "python3"
  },
  "language_info": {
   "codemirror_mode": {
    "name": "ipython",
    "version": 3
   },
   "file_extension": ".py",
   "mimetype": "text/x-python",
   "name": "python",
   "nbconvert_exporter": "python",
   "pygments_lexer": "ipython3",
   "version": "3.9.5"
  }
 },
 "nbformat": 4,
 "nbformat_minor": 5
}
