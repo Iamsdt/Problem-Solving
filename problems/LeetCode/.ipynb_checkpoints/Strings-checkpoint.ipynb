{
 "cells": [
  {
   "cell_type": "markdown",
   "metadata": {},
   "source": [
    "Link https://leetcode.com/problems/roman-to-integer/"
   ]
  },
  {
   "cell_type": "code",
   "execution_count": 24,
   "metadata": {
    "ExecuteTime": {
     "end_time": "2020-09-03T18:49:37.238896Z",
     "start_time": "2020-09-03T18:49:37.226924Z"
    }
   },
   "outputs": [
    {
     "data": {
      "text/plain": [
       "24"
      ]
     },
     "execution_count": 24,
     "metadata": {},
     "output_type": "execute_result"
    }
   ],
   "source": [
    "s = \"XXIV\"\n",
    "\n",
    "di = {\n",
    "\"I\":1,\n",
    "\"V\":5,\n",
    "\"X\":10,\n",
    "\"L\":50,\n",
    "\"C\":100,\n",
    "\"D\":500,\n",
    "\"M\":1000\n",
    "}\n",
    "\n",
    "di = {\n",
    "    \"I\":1,\n",
    "    \"V\":5,\n",
    "    \"X\":10,\n",
    "    \"L\":50,\n",
    "    \"C\":100,\n",
    "    \"D\":500,\n",
    "    \"M\":1000\n",
    "}\n",
    "        \n",
    "total = 0\n",
    "prev = di[s[0]]\n",
    "for i in s:\n",
    "    if prev < di[i]:\n",
    "        # say prev is I -> 1\n",
    "        # and current V -> 5\n",
    "        # so (5 - 1) = 4\n",
    "        # but we already added 1 in to the total\n",
    "        # so substract 1 agin that results 4\n",
    "        total += di[i] - prev * 2\n",
    "        \n",
    "    else:\n",
    "        total += di[i]\n",
    "        prev = di[i]\n",
    "        \n",
    "        \n",
    "total"
   ]
  }
 ],
 "metadata": {
  "kernelspec": {
   "display_name": "Python 3",
   "language": "python",
   "name": "python3"
  },
  "language_info": {
   "codemirror_mode": {
    "name": "ipython",
    "version": 3
   },
   "file_extension": ".py",
   "mimetype": "text/x-python",
   "name": "python",
   "nbconvert_exporter": "python",
   "pygments_lexer": "ipython3",
   "version": "3.8.3"
  }
 },
 "nbformat": 4,
 "nbformat_minor": 4
}
