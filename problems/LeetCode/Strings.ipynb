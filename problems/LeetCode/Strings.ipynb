{
 "cells": [
  {
   "cell_type": "markdown",
   "metadata": {},
   "source": [
    "### 1. Roman to Integer\n",
    "\n",
    "input -> ```XXIV``` Output -> ```24```\n",
    "\n",
    "Link https://leetcode.com/problems/roman-to-integer/"
   ]
  },
  {
   "cell_type": "code",
   "execution_count": 24,
   "metadata": {
    "ExecuteTime": {
     "end_time": "2020-09-03T18:49:37.238896Z",
     "start_time": "2020-09-03T18:49:37.226924Z"
    }
   },
   "outputs": [
    {
     "data": {
      "text/plain": [
       "24"
      ]
     },
     "execution_count": 24,
     "metadata": {},
     "output_type": "execute_result"
    }
   ],
   "source": [
    "s = \"XXIV\"\n",
    "\n",
    "di = {\n",
    "\"I\":1,\n",
    "\"V\":5,\n",
    "\"X\":10,\n",
    "\"L\":50,\n",
    "\"C\":100,\n",
    "\"D\":500,\n",
    "\"M\":1000\n",
    "}\n",
    "\n",
    "di = {\n",
    "    \"I\":1,\n",
    "    \"V\":5,\n",
    "    \"X\":10,\n",
    "    \"L\":50,\n",
    "    \"C\":100,\n",
    "    \"D\":500,\n",
    "    \"M\":1000\n",
    "}\n",
    "        \n",
    "total = 0\n",
    "prev = di[s[0]]\n",
    "for i in s:\n",
    "    if prev < di[i]:\n",
    "        # say prev is I -> 1\n",
    "        # and current V -> 5\n",
    "        # so (5 - 1) = 4\n",
    "        # but we already added 1 in to the total\n",
    "        # so substract 1 agin that results 4\n",
    "        total += di[i] - prev * 2\n",
    "        \n",
    "    else:\n",
    "        total += di[i]\n",
    "        prev = di[i]\n",
    "        \n",
    "        \n",
    "total"
   ]
  },
  {
   "cell_type": "markdown",
   "metadata": {},
   "source": [
    "### 2. Longest Common Prefix\n",
    "\n",
    "Input:\n",
    "```Input: [\"flower\",\"flow\",\"flight\"]```\n",
    "Output:\n",
    "```\"fl\"```\n",
    "\n",
    "Link: [Problem](https://leetcode.com/problems/longest-common-prefix/)"
   ]
  },
  {
   "cell_type": "code",
   "execution_count": 59,
   "metadata": {
    "ExecuteTime": {
     "end_time": "2020-09-03T19:16:30.326190Z",
     "start_time": "2020-09-03T19:16:30.308161Z"
    }
   },
   "outputs": [
    {
     "name": "stdout",
     "output_type": "stream",
     "text": [
      "2\n"
     ]
    },
    {
     "data": {
      "text/plain": [
       "'flow'"
      ]
     },
     "execution_count": 59,
     "metadata": {},
     "output_type": "execute_result"
    }
   ],
   "source": [
    "strs = [\"flower\",\"flow\",\"flight\"]\n",
    "\n",
    "# if len(strs) == 0:\n",
    "#     return \"\"\n",
    "\n",
    "\n",
    "first = min(strs, key = len)\n",
    "common = \"\"\n",
    "for i in range(len(first)+1, 0, -1):\n",
    "    value = first[:i]\n",
    "    prec_check = 0\n",
    "    \n",
    "    check = len([value for j in strs if j[:len(value)] == value])\n",
    "    print(check)\n",
    "    \n",
    "    if prec_check < check:\n",
    "        prec_check = check\n",
    "        common = value\n",
    "        break\n",
    "    \n",
    "    prec_check = check\n",
    "    if prec_check > 0:\n",
    "        common = value\n",
    "    \n",
    "common"
   ]
  },
  {
   "cell_type": "code",
   "execution_count": 43,
   "metadata": {
    "ExecuteTime": {
     "end_time": "2020-09-03T19:06:34.887428Z",
     "start_time": "2020-09-03T19:06:34.883430Z"
    }
   },
   "outputs": [
    {
     "name": "stdout",
     "output_type": "stream",
     "text": [
      "0\n",
      "1\n",
      "2\n",
      "3\n"
     ]
    }
   ],
   "source": [
    "for i in range(len(min(strs, key = len))):\n",
    "    print(i)"
   ]
  },
  {
   "cell_type": "code",
   "execution_count": 44,
   "metadata": {
    "ExecuteTime": {
     "end_time": "2020-09-03T19:07:25.106916Z",
     "start_time": "2020-09-03T19:07:25.091918Z"
    }
   },
   "outputs": [
    {
     "data": {
      "text/plain": [
       "'flow'"
      ]
     },
     "execution_count": 44,
     "metadata": {},
     "output_type": "execute_result"
    }
   ],
   "source": []
  }
 ],
 "metadata": {
  "kernelspec": {
   "display_name": "Python 3",
   "language": "python",
   "name": "python3"
  },
  "language_info": {
   "codemirror_mode": {
    "name": "ipython",
    "version": 3
   },
   "file_extension": ".py",
   "mimetype": "text/x-python",
   "name": "python",
   "nbconvert_exporter": "python",
   "pygments_lexer": "ipython3",
   "version": "3.8.3"
  }
 },
 "nbformat": 4,
 "nbformat_minor": 4
}
